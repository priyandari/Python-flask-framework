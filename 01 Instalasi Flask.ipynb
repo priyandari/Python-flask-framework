{
 "cells": [
  {
   "cell_type": "markdown",
   "metadata": {},
   "source": [
    "Buatlah sebuah lingkungan kerja, khusus untuk kebutuhan project Flask. Tutorial dalam bentuk video dapat dilihat pada link berikut ini.\n",
    "\n",
    "Adapun langkah-langkahnya secara sederhana sebagai berikut:\n"
   ]
  },
  {
   "cell_type": "markdown",
   "metadata": {},
   "source": [
    "Buka terminal atau command line application.\n",
    "\n",
    "Buatlah folder tempat bekerja projeck flask. Contoh\n",
    "\n",
    "    > mkdir myflask\n",
    "    > cd myflask\n",
    "\n",
    "Buatlah environment khusus\n",
    "\n",
    "    > python -m venv flaskenv\n",
    " \n",
    "<img src=\"images/Capture01.png\">\n",
    "\n",
    "Setelah itu, aktifkan environment flaskenv\n",
    "\n",
    "    > flaskenv\\Scripts\\activate\n",
    "    \n",
    "<img src=\"images/Capture02.png\">\n",
    "    \n",
    "\n",
    "\n",
    "<b>Install Flask</b>\n",
    "\n",
    "    > pip install -U flask\n",
    "    \n",
    "Check versi flask yang terinstall\n",
    "\n",
    "    > flask --version\n",
    "\n",
    "<img src=\"images/Capture03.png\">\n",
    "\n",
    "\n",
    "Jalankan python dan coba import flask. Jika tidak ada pesan error berarti instalasi sudah berjalan dengan baik.\n",
    "\n",
    "    > python\n",
    "    > >> import flask\n",
    "    \n",
    "<img src=\"images/Capture04.png\">\n",
    "\n",
    "Selamat memulai belajar Flask\n"
   ]
  }
 ],
 "metadata": {
  "kernelspec": {
   "display_name": "Python 3",
   "language": "python",
   "name": "python3"
  },
  "language_info": {
   "codemirror_mode": {
    "name": "ipython",
    "version": 3
   },
   "file_extension": ".py",
   "mimetype": "text/x-python",
   "name": "python",
   "nbconvert_exporter": "python",
   "pygments_lexer": "ipython3",
   "version": "3.6.5"
  }
 },
 "nbformat": 4,
 "nbformat_minor": 2
}
