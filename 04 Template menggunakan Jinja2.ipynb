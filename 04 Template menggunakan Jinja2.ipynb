{
 "cells": [
  {
   "cell_type": "markdown",
   "metadata": {},
   "source": [
    "Jinja2 adalah sebuah bahasa template untuk web yang diimplementasikan pada halaman HTML.\n",
    "\n",
    "Penggunaan Jinja2 adalah untuk memanggil variabel dari Python di dalam file HTML.\n",
    "\n",
    "Pemanggilan variabel Python menggunakan beberapa tipe format berikut ini:\n",
    "\n",
    "    {{ . . . }} untuk ekspresi (nilai)\n",
    "    {% . . . %} untuk pernyataan (statement)\n",
    "    (# . . . #} untuk komentar di dalam template\n",
    "    \n",
    "\n",
    "### Variabel\n",
    "Variabel yang diperoleh dari fungsi view ke template ditampilkan dengan mengapit variabel tersebut di antara tanda {{ ... }}\n",
    "Contoh, di dalam file HTML\n",
    "\n",
    "    Judul Buku : {{ judul }} \n",
    "\n",
    "*judul* adalah sebuah variabel.\n",
    "\n",
    "Bisa juga ditampilkan sebuah variabel yang merupakan nilai balik (return) dari sebuah fungsi dengan memanggil fungsi tersebut. Contoh:\n",
    "\n",
    "    Judul Buku : {{ model.judulbuku() }}\n",
    "\n",
    "Dalam hal itu, judulbuku() adalah sebuah fungsi yang akan mengembalikan nilai balik berupa data atau variabel judul sebuah buku.\n",
    "\n",
    "## Statement\n",
    "### Keputusan\n",
    "Blok keputusan Python di dalam file html ditampilkan menggunakan format statement berikut ini.\n",
    "\n",
    "    {% if kondisi %}\n",
    "        proses-proses yang dieksekusi\n",
    "    {% endif %}\n",
    "    \n",
    "\n",
    "### Pengulangan\n",
    "Blok pengulangan Python di dalam file html ditampilkan menggunakan format statement berikut ini.\n",
    "Contoh, terdapat sebuah list bernama lstNama dengan isi data berupa ['Andika', 'Budi', 'Heru']:\n",
    "\n",
    "    <ul>\n",
    "    {% for elemen in lstNama %}\n",
    "        <li>{{ elemen }}</li>\n",
    "    {% endfor %}\n",
    "    </ul>\n",
    "\n",
    "Hasilnya\n",
    "\n",
    "<ul>\n",
    "    <li>Andika</li>\n",
    "    <li>Budi</li>\n",
    "    <li>Heru</li>\n",
    "</ul>\n",
    "\n"
   ]
  }
 ],
 "metadata": {
  "kernelspec": {
   "display_name": "Python 3",
   "language": "python",
   "name": "python3"
  },
  "language_info": {
   "codemirror_mode": {
    "name": "ipython",
    "version": 3
   },
   "file_extension": ".py",
   "mimetype": "text/x-python",
   "name": "python",
   "nbconvert_exporter": "python",
   "pygments_lexer": "ipython3",
   "version": "3.6.5"
  }
 },
 "nbformat": 4,
 "nbformat_minor": 2
}
