{
 "cells": [
  {
   "cell_type": "markdown",
   "metadata": {},
   "source": [
    "Susunan direktori di dalam template hendaknya mengikuti kaidah susunan sebagai berikut:\n",
    "\n",
    "    \\direktori_aplikasi\n",
    "        app.py\n",
    "        ...\n",
    "        \\static\n",
    "            \\css\n",
    "                kodeformat1.css\n",
    "                kodeformat2.css\n",
    "                ...\n",
    "            \\javascript\n",
    "                kodejs1.js\n",
    "                kodejs2.js\n",
    "                ...\n",
    "            \\images\n",
    "                image1.png\n",
    "                image2.jpg\n",
    "                ...\n",
    "        \\templates\n",
    "            template1.html\n",
    "            template2.html\n",
    "            ...\n",
    "\n",
    "Dengan demikian, pemanggilan file <b>statis</b> menggunakan contoh format berikut ini:\n",
    "\n",
    "    <img src=\"/static/images/image1.png\"/>\n",
    "    \n",
    "Alternatif lainnya adalah menggunakan fungsi url_for yang tersedia dari Flask. Contoh:\n",
    "\n",
    "    <img src=\"{{ url_for('static', filename='/images/image1.png'}}\" />\n",
    "    \n",
    "\n",
    "Direktori static dapat diubah ke nama lain dengan mendefinisikan nilai untuk parameter static_url_path ketika membuat object dari kelas Flask.\n",
    "\n",
    "    application = Flask(__name__, static_url_path='staticfiles')\n",
    "    \n",
    "Dengan demikian, ketika memanggil file image atau icss\n",
    "\n",
    "    <img src=\"/staticfiles/images/image1.png\"/>\n",
    "\n",
    "~ YP"
   ]
  }
 ],
 "metadata": {
  "kernelspec": {
   "display_name": "Python 3",
   "language": "python",
   "name": "python3"
  },
  "language_info": {
   "codemirror_mode": {
    "name": "ipython",
    "version": 3
   },
   "file_extension": ".py",
   "mimetype": "text/x-python",
   "name": "python",
   "nbconvert_exporter": "python",
   "pygments_lexer": "ipython3",
   "version": "3.6.5"
  }
 },
 "nbformat": 4,
 "nbformat_minor": 2
}
